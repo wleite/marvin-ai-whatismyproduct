{
 "cells": [
  {
   "cell_type": "code",
   "execution_count": 2,
   "metadata": {
    "marvin_cell": "acquisitor"
   },
   "outputs": [],
   "source": [
    "from marvin_python_toolbox.common.data import MarvinData\n",
    "import pandas as pd\n",
    "\n",
    "initial_dataset = pd.read_csv(MarvinData.download_file(\"https://s3.amazonaws.com/automl-example/produtos.csv\"), delimiter=\";\", encoding='utf-8')\n",
    "initial_dataset[\"text\"] = initial_dataset[\"nome\"] + \" \" + initial_dataset[\"descricao\"]\n",
    "initial_dataset.drop([\"descricao\", \"nome\"], axis=1, inplace=True)\n",
    "initial_dataset.dropna(inplace=True)\n",
    "\n",
    "marvin_initial_dataset = initial_dataset"
   ]
  },
  {
   "cell_type": "code",
   "execution_count": 14,
   "metadata": {
    "marvin_cell": "tpreparator"
   },
   "outputs": [],
   "source": [
    "from sklearn.feature_extraction.text import CountVectorizer\n",
    "from sklearn.model_selection import train_test_split\n",
    "\n",
    "X_train,X_test,y_train,y_test = train_test_split(\n",
    "    marvin_initial_dataset[\"text\"], \n",
    "    marvin_initial_dataset[\"categoria\"], \n",
    "    test_size = 0.2, \n",
    "    random_state = 10\n",
    ")\n",
    "\n",
    "vect = CountVectorizer()\n",
    "vect.fit(marvin_initial_dataset[\"text\"])\n",
    "\n",
    "marvin_dataset = {\n",
    "    \"X_train\": vect.transform(X_train),\n",
    "    \"X_test\": vect.transform(X_test),\n",
    "    \"y_train\": y_train,\n",
    "    \"y_test\" : y_test,\n",
    "    \"vect\": vect\n",
    "}"
   ]
  },
  {
   "cell_type": "code",
   "execution_count": 10,
   "metadata": {
    "marvin_cell": "trainer"
   },
   "outputs": [],
   "source": [
    "from sklearn.naive_bayes import MultinomialNB\n",
    "\n",
    "\n",
    "clf = MultinomialNB()\n",
    "clf.fit(marvin_dataset[\"X_train\"], marvin_dataset[\"y_train\"])\n",
    "\n",
    "marvin_model = {\n",
    "    \"clf\" : clf,\n",
    "    \"vect\": marvin_dataset[\"vect\"]\n",
    "}"
   ]
  },
  {
   "cell_type": "code",
   "execution_count": 11,
   "metadata": {
    "marvin_cell": "evaluator"
   },
   "outputs": [
    {
     "name": "stdout",
     "output_type": "stream",
     "text": [
      "0.979452054795\n"
     ]
    }
   ],
   "source": [
    "from sklearn.metrics import accuracy_score\n",
    "\n",
    "y_prediction = marvin_model[\"clf\"].predict(marvin_dataset[\"X_test\"])\n",
    "\n",
    "accuracy = accuracy_score(y_prediction, marvin_dataset[\"y_test\"])\n",
    "\n",
    "print accuracy\n",
    "\n",
    "marvin_metrics = accuracy"
   ]
  },
  {
   "cell_type": "code",
   "execution_count": null,
   "metadata": {},
   "outputs": [],
   "source": [
    "input_message = [\"hobbit\"]"
   ]
  },
  {
   "cell_type": "code",
   "execution_count": 12,
   "metadata": {
    "marvin_cell": "ppreparator"
   },
   "outputs": [],
   "source": [
    "input_message = marvin_model[\"vect\"].transform(input_message)"
   ]
  },
  {
   "cell_type": "code",
   "execution_count": 13,
   "metadata": {
    "marvin_cell": "predictor"
   },
   "outputs": [
    {
     "name": "stdout",
     "output_type": "stream",
     "text": [
      "Predicted value: livro\n"
     ]
    }
   ],
   "source": [
    "final_prediction = marvin_model[\"clf\"].predict(input_message)[0]"
   ]
  },
  {
   "cell_type": "code",
   "execution_count": null,
   "metadata": {},
   "outputs": [],
   "source": [
    "print(\"Predicted value: \" + final_prediction)"
   ]
  }
 ],
 "metadata": {
  "kernelspec": {
   "display_name": "Python 2",
   "language": "python",
   "name": "python2"
  },
  "language_info": {
   "codemirror_mode": {
    "name": "ipython",
    "version": 2
   },
   "file_extension": ".py",
   "mimetype": "text/x-python",
   "name": "python",
   "nbconvert_exporter": "python",
   "pygments_lexer": "ipython2",
   "version": "2.7.12"
  }
 },
 "nbformat": 4,
 "nbformat_minor": 2
}
